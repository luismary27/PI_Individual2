{
 "cells": [
  {
   "cell_type": "code",
   "execution_count": 1,
   "metadata": {},
   "outputs": [],
   "source": [
    "import pandas as pd"
   ]
  },
  {
   "cell_type": "code",
   "execution_count": 71,
   "metadata": {},
   "outputs": [],
   "source": [
    "homicidios=pd.read_csv('Datasets/Homicidios_clean.csv')"
   ]
  },
  {
   "cell_type": "code",
   "execution_count": 3,
   "metadata": {},
   "outputs": [
    {
     "data": {
      "text/html": [
       "<div>\n",
       "<style scoped>\n",
       "    .dataframe tbody tr th:only-of-type {\n",
       "        vertical-align: middle;\n",
       "    }\n",
       "\n",
       "    .dataframe tbody tr th {\n",
       "        vertical-align: top;\n",
       "    }\n",
       "\n",
       "    .dataframe thead th {\n",
       "        text-align: right;\n",
       "    }\n",
       "</style>\n",
       "<table border=\"1\" class=\"dataframe\">\n",
       "  <thead>\n",
       "    <tr style=\"text-align: right;\">\n",
       "      <th></th>\n",
       "      <th>Censo Nacional de Población, Hogares y Viviendas 2022</th>\n",
       "      <th>Unnamed: 1</th>\n",
       "      <th>Unnamed: 2</th>\n",
       "      <th>Unnamed: 3</th>\n",
       "      <th>Unnamed: 4</th>\n",
       "      <th>Unnamed: 5</th>\n",
       "      <th>Unnamed: 6</th>\n",
       "      <th>Unnamed: 7</th>\n",
       "      <th>Unnamed: 8</th>\n",
       "      <th>Unnamed: 9</th>\n",
       "      <th>Unnamed: 10</th>\n",
       "      <th>Unnamed: 11</th>\n",
       "      <th>Unnamed: 12</th>\n",
       "    </tr>\n",
       "  </thead>\n",
       "  <tbody>\n",
       "    <tr>\n",
       "      <th>0</th>\n",
       "      <td>Cuadro resumen. Total de población, población ...</td>\n",
       "      <td>NaN</td>\n",
       "      <td>NaN</td>\n",
       "      <td>NaN</td>\n",
       "      <td>NaN</td>\n",
       "      <td>NaN</td>\n",
       "      <td>NaN</td>\n",
       "      <td>NaN</td>\n",
       "      <td>NaN</td>\n",
       "      <td>NaN</td>\n",
       "      <td>NaN</td>\n",
       "      <td>NaN</td>\n",
       "      <td>NaN</td>\n",
       "    </tr>\n",
       "    <tr>\n",
       "      <th>1</th>\n",
       "      <td>Jurisdicción</td>\n",
       "      <td>Total</td>\n",
       "      <td>NaN</td>\n",
       "      <td>NaN</td>\n",
       "      <td>NaN</td>\n",
       "      <td>Varones</td>\n",
       "      <td>NaN</td>\n",
       "      <td>NaN</td>\n",
       "      <td>NaN</td>\n",
       "      <td>Mujeres</td>\n",
       "      <td>NaN</td>\n",
       "      <td>NaN</td>\n",
       "      <td>NaN</td>\n",
       "    </tr>\n",
       "    <tr>\n",
       "      <th>2</th>\n",
       "      <td>NaN</td>\n",
       "      <td>Total de población</td>\n",
       "      <td>Población en viviendas particulares</td>\n",
       "      <td>Población en viviendas colectivas (¹)</td>\n",
       "      <td>Población en situación de calle(²)</td>\n",
       "      <td>Total de población</td>\n",
       "      <td>Población en viviendas particulares</td>\n",
       "      <td>Población en viviendas colectivas (¹)</td>\n",
       "      <td>Población en situación de calle(²)</td>\n",
       "      <td>Total de población</td>\n",
       "      <td>Población en viviendas particulares</td>\n",
       "      <td>Población en viviendas colectivas (¹)</td>\n",
       "      <td>Población en situación de calle(²)</td>\n",
       "    </tr>\n",
       "    <tr>\n",
       "      <th>3</th>\n",
       "      <td>Total del país</td>\n",
       "      <td>45892285</td>\n",
       "      <td>45618787</td>\n",
       "      <td>267793</td>\n",
       "      <td>5705</td>\n",
       "      <td>22186791</td>\n",
       "      <td>22010881</td>\n",
       "      <td>171436</td>\n",
       "      <td>4474</td>\n",
       "      <td>23705494</td>\n",
       "      <td>23607906</td>\n",
       "      <td>96357</td>\n",
       "      <td>1231</td>\n",
       "    </tr>\n",
       "    <tr>\n",
       "      <th>4</th>\n",
       "      <td>Ciudad Autónoma de Buenos Aires</td>\n",
       "      <td>3121707</td>\n",
       "      <td>3095454</td>\n",
       "      <td>23850</td>\n",
       "      <td>2403</td>\n",
       "      <td>1439873</td>\n",
       "      <td>1428781</td>\n",
       "      <td>9216</td>\n",
       "      <td>1876</td>\n",
       "      <td>1681834</td>\n",
       "      <td>1666673</td>\n",
       "      <td>14634</td>\n",
       "      <td>527</td>\n",
       "    </tr>\n",
       "    <tr>\n",
       "      <th>5</th>\n",
       "      <td>Buenos Aires</td>\n",
       "      <td>17523996</td>\n",
       "      <td>17408906</td>\n",
       "      <td>113664</td>\n",
       "      <td>1426</td>\n",
       "      <td>8470569</td>\n",
       "      <td>8393419</td>\n",
       "      <td>76030</td>\n",
       "      <td>1120</td>\n",
       "      <td>9053427</td>\n",
       "      <td>9015487</td>\n",
       "      <td>37634</td>\n",
       "      <td>306</td>\n",
       "    </tr>\n",
       "  </tbody>\n",
       "</table>\n",
       "</div>"
      ],
      "text/plain": [
       "  Censo Nacional de Población, Hogares y Viviendas 2022          Unnamed: 1  \\\n",
       "0  Cuadro resumen. Total de población, población ...                    NaN   \n",
       "1                                       Jurisdicción                  Total   \n",
       "2                                                NaN     Total de población   \n",
       "3                                     Total del país               45892285   \n",
       "4                    Ciudad Autónoma de Buenos Aires                3121707   \n",
       "5                                       Buenos Aires               17523996   \n",
       "\n",
       "                            Unnamed: 2                             Unnamed: 3  \\\n",
       "0                                  NaN                                    NaN   \n",
       "1                                  NaN                                    NaN   \n",
       "2  Población en viviendas particulares  Población en viviendas colectivas (¹)   \n",
       "3                             45618787                                 267793   \n",
       "4                              3095454                                  23850   \n",
       "5                             17408906                                 113664   \n",
       "\n",
       "                           Unnamed: 4          Unnamed: 5  \\\n",
       "0                                 NaN                 NaN   \n",
       "1                                 NaN             Varones   \n",
       "2  Población en situación de calle(²)  Total de población   \n",
       "3                                5705            22186791   \n",
       "4                                2403             1439873   \n",
       "5                                1426             8470569   \n",
       "\n",
       "                            Unnamed: 6                             Unnamed: 7  \\\n",
       "0                                  NaN                                    NaN   \n",
       "1                                  NaN                                    NaN   \n",
       "2  Población en viviendas particulares  Población en viviendas colectivas (¹)   \n",
       "3                             22010881                                 171436   \n",
       "4                              1428781                                   9216   \n",
       "5                              8393419                                  76030   \n",
       "\n",
       "                           Unnamed: 8          Unnamed: 9  \\\n",
       "0                                 NaN                 NaN   \n",
       "1                                 NaN             Mujeres   \n",
       "2  Población en situación de calle(²)  Total de población   \n",
       "3                                4474            23705494   \n",
       "4                                1876             1681834   \n",
       "5                                1120             9053427   \n",
       "\n",
       "                           Unnamed: 10                            Unnamed: 11  \\\n",
       "0                                  NaN                                    NaN   \n",
       "1                                  NaN                                    NaN   \n",
       "2  Población en viviendas particulares  Población en viviendas colectivas (¹)   \n",
       "3                             23607906                                  96357   \n",
       "4                              1666673                                  14634   \n",
       "5                              9015487                                  37634   \n",
       "\n",
       "                          Unnamed: 12  \n",
       "0                                 NaN  \n",
       "1                                 NaN  \n",
       "2  Población en situación de calle(²)  \n",
       "3                                1231  \n",
       "4                                 527  \n",
       "5                                 306  "
      ]
     },
     "execution_count": 3,
     "metadata": {},
     "output_type": "execute_result"
    }
   ],
   "source": [
    "#Importamos la data de poblacion por comuna\n",
    "poblacion =pd.read_excel('Datasets/Censo_nacional_2021.xlsx')\n",
    "poblacion\n"
   ]
  },
  {
   "cell_type": "code",
   "execution_count": 4,
   "metadata": {},
   "outputs": [
    {
     "name": "stdout",
     "output_type": "stream",
     "text": [
      "Población Total de CABA segun el Censo 2022: 3121707\n"
     ]
    }
   ],
   "source": [
    "poblacion_total = poblacion['Unnamed: 1'][4]\n",
    "poblacion_total = pd.to_numeric(poblacion_total, errors='coerce')\n",
    "print(f\"Población Total de CABA segun el Censo 2022: {poblacion_total}\")"
   ]
  },
  {
   "cell_type": "markdown",
   "metadata": {},
   "source": [
    "1) KPIs Reducir en un 10% la tasa de homicidios en siniestros viales de los últimos seis meses, en CABA, en comparación con la tasa de homicidios en siniestros viales del semestre anterior.   \n",
    "\n",
    "**Tasa de Homicidios=( Numero de homicidios en siniestros viales / Poblacion total )×100,000**  "
   ]
  },
  {
   "cell_type": "code",
   "execution_count": 5,
   "metadata": {},
   "outputs": [],
   "source": [
    "#Transformamos a datetime para su mejor manejo\n",
    "homicidios['FECHA_FALLECIMIENTO'] = pd.to_datetime(homicidios['FECHA_FALLECIMIENTO'], errors='coerce')"
   ]
  },
  {
   "cell_type": "code",
   "execution_count": 21,
   "metadata": {},
   "outputs": [
    {
     "data": {
      "text/plain": [
       "3.11"
      ]
     },
     "execution_count": 21,
     "metadata": {},
     "output_type": "execute_result"
    }
   ],
   "source": [
    "#Filtrar los datos por fecha de fallecimiento no nula\n",
    "fecha_fallecimiento = homicidios.loc[homicidios['FECHA_FALLECIMIENTO'].notnull()]\n",
    "#Filtrar por año 2021\n",
    "fecha_fallecimiento = fecha_fallecimiento.loc[fecha_fallecimiento['AÑO'] == 2021]\n",
    "#Calculamos la tasa de homicidios\n",
    "homicidios_counts = (fecha_fallecimiento['N_VICTIMAS'].sum() / poblacion_total) * 100000\n",
    "#Calculamos la tasa de homicidios del último semestre\n",
    "homicidios_ultimo_sem = homicidios_counts\n",
    "#Calculamos la reducción\n",
    "reduccion = homicidios_ultimo_sem \n",
    "reduccion_redondeada = round(reduccion, 2)\n",
    "reduccion_redondeada\n"
   ]
  },
  {
   "cell_type": "markdown",
   "metadata": {},
   "source": [
    "2) KPI Reducir en un 7% la cantidad de accidentes mortales de motociclistas en el último año, en CABA, respecto al año anterior.  \n",
    "\n",
    "**(Número de accidentes mortales con víctimas en moto en el año anterior - Número de accidentes mortales con víctimas en moto en el año actual) / (Número de accidentes mortales con víctimas en moto en el año anterior) * 100**"
   ]
  },
  {
   "cell_type": "code",
   "execution_count": 73,
   "metadata": {},
   "outputs": [
    {
     "name": "stdout",
     "output_type": "stream",
     "text": [
      "    Año  Cantidad  Porcentaje_Cambio\n",
      "0  2016        65                NaN\n",
      "1  2017        56         -13.846154\n",
      "2  2018        57           1.785714\n",
      "3  2019        50         -12.280702\n",
      "4  2020        28         -44.000000\n",
      "5  2021        46          64.285714\n"
     ]
    }
   ],
   "source": [
    "#Convertimos la columna 'FECHA' en formato de fecha y hora\n",
    "homicidios['FECHA'] = pd.to_datetime(homicidios['FECHA'], errors='coerce')\n",
    "#Se filtran los datos para seleccionar solo los accidentes que involucran a motociclistas\n",
    "accidentes_moto_por_anio = homicidios[homicidios['VICTIMA'] == 'MOTO']\n",
    "#Agrupamos los datos por año y contar la cantidad de accidentes en cada año\n",
    "accidentes_moto_por_anio = accidentes_moto_por_anio.groupby(accidentes_moto_por_anio['FECHA'].dt.year).size().reset_index(name='Cantidad')\n",
    "#Calculamos el porcentaje de cambio en la cantidad de accidentes entre años consecutivos\n",
    "accidentes_moto_por_anio.columns = ['Año', 'Cantidad']\n",
    "accidentes_moto_por_anio['Porcentaje_Cambio'] = (\n",
    "    (accidentes_moto_por_anio['Cantidad'] - accidentes_moto_por_anio['Cantidad'].shift(1)) / \n",
    "    accidentes_moto_por_anio['Cantidad'].shift(1)\n",
    ") * 100\n",
    "print(accidentes_moto_por_anio)\n",
    "\n",
    "#Obtenemos el porcentaje de cambio del último año\n",
    "porcentaje_reduccion_ultimo_anio = accidentes_moto_por_anio['Porcentaje_Cambio'].iloc[-1]\n"
   ]
  },
  {
   "cell_type": "markdown",
   "metadata": {},
   "source": [
    "3) KPI Reducir en un 10% la cantidad de accidentes mortales em la comuna 1 en el último año, en CABA, respecto al año anterior.  \n",
    "\n",
    "**(Número de accidentes mortales en la comuna 1 en el año anterior - Número de accidentes mortales en la comuna 1 en el año actual) / (Número de accidentes mortales en la comuna 1 en el año anterior) * 100**\n"
   ]
  },
  {
   "cell_type": "code",
   "execution_count": 74,
   "metadata": {},
   "outputs": [
    {
     "name": "stdout",
     "output_type": "stream",
     "text": [
      "¡Se ha logrado una reducción del 10% o más en la cantidad de accidentes mortales en la comuna 1 en el último año!\n",
      "Año actual: 2021\n",
      "Cantidad de accidentes en el año anterior: 10\n",
      "Cantidad de accidentes en el año actual: 9\n",
      "Porcentaje de reducción: 10.00 %\n"
     ]
    }
   ],
   "source": [
    "#Selecciona los datos de la comuna 1\n",
    "accidentes_com1 = homicidios[homicidios['COMUNA'] == 1]\n",
    "#Selecciona el año actual\n",
    "año_actual = accidentes_com1['AÑO'].max()\n",
    "#Selecciona el año anterior\n",
    "año_anterior = año_actual - 1\n",
    "#Selecciona los años 2021 y 2020\n",
    "año_2021 = año_actual\n",
    "año_2020 = año_actual - 1\n",
    "#Filtra por los cuatro años\n",
    "accidentes_com1 = accidentes_com1[(accidentes_com1['AÑO'] == año_anterior) | \n",
    "                                  (accidentes_com1['AÑO'] == año_actual) |\n",
    "                                  (accidentes_com1['AÑO'] == año_2020) |\n",
    "                                  (accidentes_com1['AÑO'] == año_2021)]\n",
    "#Agrupamos por fecha y contar la cantidad de accidentes\n",
    "accidentes_com1 = accidentes_com1.groupby(accidentes_com1['AÑO']).size().reset_index(name='Cantidad')\n",
    "#Se calcula el porcentaje de cambio en la cantidad de accidentes\n",
    "accidentes_com1['Porcentaje_Cambio'] = ((accidentes_com1['Cantidad'].shift(1) - accidentes_com1['Cantidad']) / \n",
    "                                             accidentes_com1['Cantidad'].shift(1)) * 100\n",
    "#Accedemos a la cantidad de accidentes del año anterior\n",
    "cantidad_anterior = accidentes_com1[accidentes_com1['AÑO'] == año_anterior]['Cantidad'].iloc[0]\n",
    "#Accedemos a la cantidad de accidentes del año actual\n",
    "cantidad_actual = accidentes_com1[accidentes_com1['AÑO'] == año_actual]['Cantidad'].iloc[0]\n",
    "#Accedemos al porcentaje de cambio\n",
    "porcentaje_reduccion = accidentes_com1[accidentes_com1['AÑO'] == año_actual]['Porcentaje_Cambio'].iloc[0]\n",
    "#Imprimimos los resultados\n",
    "if porcentaje_reduccion <= 10:\n",
    "    print(\"¡Se ha logrado una reducción del 10% o más en la cantidad de accidentes mortales en la comuna 1 en el último año!\")\n",
    "else:\n",
    "    print(\"La reducción en la cantidad de accidentes mortales en la comuna 1 no alcanzó el 10%.\")\n",
    "print(f\"Año actual: {año_actual}\")\n",
    "print(f\"Cantidad de accidentes en el año anterior: {cantidad_anterior}\")\n",
    "print(f\"Cantidad de accidentes en el año actual: {cantidad_actual}\")\n",
    "print(f\"Porcentaje de reducción: {porcentaje_reduccion:.2f} %\")"
   ]
  }
 ],
 "metadata": {
  "kernelspec": {
   "display_name": "Python 3",
   "language": "python",
   "name": "python3"
  },
  "language_info": {
   "codemirror_mode": {
    "name": "ipython",
    "version": 3
   },
   "file_extension": ".py",
   "mimetype": "text/x-python",
   "name": "python",
   "nbconvert_exporter": "python",
   "pygments_lexer": "ipython3",
   "version": "3.11.8"
  }
 },
 "nbformat": 4,
 "nbformat_minor": 2
}
